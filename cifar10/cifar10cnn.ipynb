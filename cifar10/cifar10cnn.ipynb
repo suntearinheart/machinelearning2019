{
 "cells": [
  {
   "cell_type": "code",
   "execution_count": 1,
   "metadata": {},
   "outputs": [
    {
     "data": {
      "text/html": [
       "<style>.container { width:80% !important; }</style>"
      ],
      "text/plain": [
       "<IPython.core.display.HTML object>"
      ]
     },
     "metadata": {},
     "output_type": "display_data"
    }
   ],
   "source": [
    "from IPython.core.display import display, HTML\n",
    "display(HTML(\"<style>.container { width:80% !important; }</style>\"))"
   ]
  },
  {
   "cell_type": "markdown",
   "metadata": {},
   "source": [
    "#  Assignment 1 - Advance Machine Learning 159.738 \n",
    "\n",
    "---"
   ]
  },
  {
   "cell_type": "markdown",
   "metadata": {},
   "source": [
    "### Team members:\n",
    "Ziyi Wang ID 18042783\n",
    "Youzhi Lei   19039281\n",
    "Zhichun Wang 19024898"
   ]
  },
  {
   "cell_type": "markdown",
   "metadata": {},
   "source": [
    "## Content\n",
    "* Loading datasets and resize data split to training and testing\n",
    "* For this part, we will use the CNN for the vehicles&animals dataset\n",
    "\n",
    "\n",
    "---\n"
   ]
  },
  {
   "cell_type": "markdown",
   "metadata": {},
   "source": [
    "#### Information about datasets\n",
    "#### Labeled vehicles and animals from:\n",
    "* Images of various types of vehicles and animals http://www.cs.toronto.edu/%7Ekriz/cifar.html"
   ]
  },
  {
   "cell_type": "code",
   "execution_count": 2,
   "metadata": {},
   "outputs": [],
   "source": [
    "#!pip install opencv-python"
   ]
  },
  {
   "cell_type": "code",
   "execution_count": 3,
   "metadata": {},
   "outputs": [],
   "source": [
    "#!pip install tensorflow"
   ]
  },
  {
   "cell_type": "code",
   "execution_count": 1,
   "metadata": {
    "scrolled": true
   },
   "outputs": [],
   "source": [
    "import pandas as pd\n",
    "import matplotlib.pyplot as plt\n",
    "import matplotlib as mpl\n",
    "import seaborn as sns\n",
    "import numpy as np\n",
    "import patsy\n",
    "import os\n",
    "#from plt import Image \n",
    "import cv2\n",
    "%matplotlib inline"
   ]
  },
  {
   "cell_type": "code",
   "execution_count": 2,
   "metadata": {},
   "outputs": [
    {
     "name": "stdout",
     "output_type": "stream",
     "text": [
      "1.13.0-rc1\n"
     ]
    }
   ],
   "source": [
    "# TensorFlow and tf.keras\n",
    "import tensorflow as tf\n",
    "from tensorflow import keras\n",
    "\n",
    "# Helper libraries\n",
    "import numpy as np\n",
    "import matplotlib.pyplot as plt\n",
    "\n",
    "print(tf.__version__)"
   ]
  },
  {
   "cell_type": "code",
   "execution_count": 3,
   "metadata": {},
   "outputs": [],
   "source": [
    "from pylab import rcParams\n",
    "\n",
    "sns.set(style=\"ticks\")\n",
    "#sns.set_style(\"whitegrid\")\n",
    "rcParams['figure.dpi'] = 72\n",
    "rcParams['lines.linewidth'] = 2\n",
    "rcParams['axes.facecolor'] = 'white'\n",
    "rcParams['patch.edgecolor'] = 'white'\n",
    "rcParams['font.family'] = 'StixGeneral'\n",
    "rcParams['figure.figsize'] = 10,8\n",
    "rcParams['font.size'] = 14\n",
    "rcParams['axes.labelsize'] = 'large'\n",
    "rcParams['xtick.labelsize'] = 14\n",
    "rcParams['ytick.labelsize'] = 14\n",
    "\n",
    "pd.options.display.max_columns = 50"
   ]
  },
  {
   "cell_type": "code",
   "execution_count": 4,
   "metadata": {},
   "outputs": [
    {
     "name": "stdout",
     "output_type": "stream",
     "text": [
      "/home/dp1/Ml-project1\n"
     ]
    }
   ],
   "source": [
    "import os\n",
    "cwd = os.getcwd()\n",
    "print(cwd)\n",
    "#Please put the data to current location, Thanks "
   ]
  },
  {
   "cell_type": "code",
   "execution_count": 142,
   "metadata": {},
   "outputs": [
    {
     "name": "stdout",
     "output_type": "stream",
     "text": [
      "dict_keys([b'batch_label', b'labels', b'data', b'filenames'])\n",
      "b'labels' type is  <class 'list'>\n",
      "10000\n",
      "(10000, 3072)\n",
      "21\n",
      "b'training batch 4 of 5'\n",
      "shape is (3, 1024)\n",
      "new array shape is (32, 32, 3)\n",
      "gray shape is  (32, 32)\n",
      "dict_keys([b'num_cases_per_batch', b'label_names', b'num_vis'])\n",
      "label is  b'airplane'\n",
      "10 categories: [b'airplane', b'automobile', b'bird', b'cat', b'deer', b'dog', b'frog', b'horse', b'ship', b'truck']\n"
     ]
    },
    {
     "data": {
      "text/plain": [
       "'DATADIR = \"/home/zoe/Documents/machinelearning2019/PetImages\"\\nCATEGORIES = [\"Dog\",\"Cat\"]\\n\\nfor category in CATEGORIES:\\n    path = os.path.join(DATADIR, category)#path to cats or dogs dir\\n    for img in os.listdir(path):\\n        img_array = cv2.imread(os.path.join(path,img), cv2.IMREAD_GRAYSCALE)#read and make it to grey scale\\n        plt.imshow(img_array,cmap=\"gray\")\\n        plt.show()\\n        break\\n    break\\n'"
      ]
     },
     "execution_count": 142,
     "metadata": {},
     "output_type": "execute_result"
    },
    {
     "data": {
      "image/png": "[encoded data removed]",
      "text/plain": [
       "<Figure size 720x576 with 1 Axes>"
      ]
     },
     "metadata": {},
     "output_type": "display_data"
    }
   ],
   "source": [
    "#load the dataset \n",
    "#test one image and show \n",
    "DATADIR = r\"/home/dp1/Downloads/cifar-10-batches-py/\"\n",
    "def unpickle(file):\n",
    "    import pickle\n",
    "    with open(file, 'rb') as fo:\n",
    "        dict = pickle.load(fo, encoding='bytes')\n",
    "    return dict\n",
    "\n",
    "batch = unpickle(DATADIR+\"data_batch_4\")\n",
    "print(batch.keys())\n",
    "print(\"b'labels' type is \", type(batch[b'labels']))\n",
    "print(len(batch[b'filenames']))\n",
    "print(batch[b'data'].shape)\n",
    "print(len(batch[b'batch_label']))\n",
    "print(batch[b'batch_label'])\n",
    "IMG_SIZE = 32 # each image in the dataset is 32*32, color\n",
    "img_array = batch[b'data'][0].reshape(3, 1024)\n",
    "print(\"shape is\", img_array.shape)\n",
    "ziplist = list(zip(img_array[2], img_array[1], img_array[0]))\n",
    "newarray = np.array(ziplist).reshape(IMG_SIZE, IMG_SIZE, 3)\n",
    "print(\"new array shape is\", newarray.shape)\n",
    "plt.imshow(newarray)\n",
    "plt.show\n",
    "#print(newarray)\n",
    "img_array = cv2.cvtColor(newarray, cv2.COLOR_BGR2GRAY)\n",
    "print(\"gray shape is \", img_array.shape)\n",
    "plt.imshow(img_array, cmap='gray')\n",
    "plt.show\n",
    "\n",
    "metafile = unpickle(DATADIR+\"batches.meta\") \n",
    "print(metafile.keys())\n",
    "print(\"label is \", metafile[b'label_names'][batch[b'labels'][0]])\n",
    "\n",
    "CATEGORIES = []\n",
    "for i in range(len(metafile[b'label_names'])):\n",
    "    CATEGORIES.append(metafile[b'label_names'][i])\n",
    "\n",
    "print(len(metafile[b'label_names']), \"categories:\", CATEGORIES)\n"
   ]
  },
  {
   "cell_type": "code",
   "execution_count": 74,
   "metadata": {},
   "outputs": [
    {
     "name": "stdout",
     "output_type": "stream",
     "text": [
      "[[ 28  23  21 ... 130 124 118]\n",
      " [ 57  28  14 ...  96  92  89]\n",
      " [ 93  45  12 ...  43  43  46]\n",
      " ...\n",
      " [166 164 164 ... 172 170 167]\n",
      " [169 169 168 ... 171 167 165]\n",
      " [173 175 173 ... 169 167 166]]\n"
     ]
    }
   ],
   "source": [
    "#show the print array\n",
    "print(img_array)"
   ]
  },
  {
   "cell_type": "code",
   "execution_count": 82,
   "metadata": {},
   "outputs": [
    {
     "data": {
      "text/plain": [
       "<function matplotlib.pyplot.show(*args, **kw)>"
      ]
     },
     "execution_count": 82,
     "metadata": {},
     "output_type": "execute_result"
    },
    {
     "data": {
      "image/png": "[encoded data removed]",
      "text/plain": [
       "<Figure size 720x576 with 1 Axes>"
      ]
     },
     "metadata": {},
     "output_type": "display_data"
    }
   ],
   "source": [
    "# set the image size to 50\n",
    "IMG_SIZE = 32\n",
    "new_array = cv2.resize(img_array,(IMG_SIZE, IMG_SIZE))\n",
    "plt.imshow(new_array, cmap = 'gray')\n",
    "plt.show"
   ]
  },
  {
   "cell_type": "code",
   "execution_count": 113,
   "metadata": {},
   "outputs": [
    {
     "name": "stdout",
     "output_type": "stream",
     "text": [
      "len(batch[b'data'] is  10000\n",
      "len(batch[b'data'] is  10000\n",
      "len(batch[b'data'] is  10000\n",
      "len(batch[b'data'] is  10000\n",
      "len(batch[b'data'] is  10000\n",
      "len(batch[b'data'] is  10000\n"
     ]
    },
    {
     "data": {
      "text/plain": [
       "'def create_training_data():\\n    for category in CATEGORIES:\\n        path = os.path.join(DATADIR, category)\\n        #conver the dog and cat to numerical value 0/1\\n        class_num = CATEGORIES.index(category)\\n        \\n        for img in os.listdir(path):\\n            try:\\n                #read and make it to grey scale\\n                img_array = cv2.imread(os.path.join(path,img), cv2.IMREAD_GRAYSCALE)\\n                #resize operation\\n                new_array = cv2.resize(img_array,(IMG_SIZE, IMG_SIZE))\\n                #small image and classfication name to training data\\n                randvalue =  random.randint(1, 2)\\n                if(randvalue == 1) :\\n                    training_data.append([new_array, class_num])\\n                else: \\n                    testing_data.append([new_array, class_num])              \\n                \\n            except Exception as e:\\n                pass#pass the image if they broken\\n            \\ncreate_training_data()\\n'"
      ]
     },
     "execution_count": 113,
     "metadata": {},
     "output_type": "execute_result"
    }
   ],
   "source": [
    "import random\n",
    "\n",
    "training_data = []\n",
    "testing_data = []\n",
    "\n",
    "def create_training_data():    \n",
    "    for batchfile in os.listdir(DATADIR):\n",
    "        try:\n",
    "            if (batchfile.startswith(\"data_batch_\") or batchfile == 'test_batch'):                \n",
    "                batch = unpickle(os.path.join(DATADIR, batchfile))\n",
    "                print(\"len(batch[b'data'] is \", len(batch[b'data']))\n",
    "                for i in range(len(batch[b'data'])): # There should be 10000 images in each batch                    \n",
    "                    # 1024 red values, then 1024 green values, then 1024 blue values\n",
    "                    img_array = batch[b'data'][i].reshape(3, 1024) \n",
    "                    #print(\"shape is\", img_array.shape)\n",
    "                    # Note that OpenCV needs BGR instead of RGB\n",
    "                    ziplist = list(zip(img_array[2], img_array[1], img_array[0])) \n",
    "                    img_array = np.array(ziplist).reshape(IMG_SIZE, IMG_SIZE, 3)\n",
    "                    img_array = cv2.cvtColor(img_array, cv2.COLOR_BGR2GRAY)\n",
    "                    if (batchfile.startswith(\"data_batch_\")):\n",
    "                        training_data.append([img_array, batch[b'labels'][i]])\n",
    "                    else:\n",
    "                        testing_data.append([img_array, batch[b'labels'][i]])\n",
    "            \n",
    "\n",
    "        except Exception as e:\n",
    "            pass#pass the image if they broken    \n",
    "    \n",
    "create_training_data()\n"
   ]
  },
  {
   "cell_type": "code",
   "execution_count": 114,
   "metadata": {},
   "outputs": [
    {
     "name": "stdout",
     "output_type": "stream",
     "text": [
      "50000\n",
      "10000\n"
     ]
    }
   ],
   "source": [
    "# get out and show the training data and testing data\n",
    "print(len(training_data))\n",
    "print(len(testing_data))\n"
   ]
  },
  {
   "cell_type": "code",
   "execution_count": 121,
   "metadata": {},
   "outputs": [],
   "source": [
    "#seperate dataset\n",
    "random.shuffle(training_data)\n",
    "random.shuffle(testing_data)"
   ]
  },
  {
   "cell_type": "code",
   "execution_count": 152,
   "metadata": {},
   "outputs": [
    {
     "name": "stdout",
     "output_type": "stream",
     "text": [
      "labels of 10 training samples:\n",
      "6\n",
      "6\n",
      "1\n",
      "6\n",
      "4\n",
      "9\n",
      "5\n",
      "0\n",
      "2\n",
      "2\n",
      "\n",
      "labels of 10 testing samples:\n",
      "7\n",
      "2\n",
      "5\n",
      "7\n",
      "8\n",
      "5\n",
      "0\n",
      "2\n",
      "6\n",
      "2\n"
     ]
    }
   ],
   "source": [
    "print(\"labels of 10 training samples:\")\n",
    "for sample in training_data[:10]:\n",
    "    print(sample[1])\n",
    "\n",
    "print(\"\\nlabels of 10 testing samples:\")\n",
    "for sample in testing_data[:10]:\n",
    "    print(sample[1])"
   ]
  },
  {
   "cell_type": "code",
   "execution_count": 123,
   "metadata": {},
   "outputs": [],
   "source": [
    "#featurs set\n",
    "trainfeaturex = []\n",
    "#label\n",
    "trainlabely = []\n",
    "#featurs set\n",
    "testfeaturex = []\n",
    "#label\n",
    "testlabely = []"
   ]
  },
  {
   "cell_type": "code",
   "execution_count": 124,
   "metadata": {},
   "outputs": [],
   "source": [
    "for features, label in training_data:\n",
    "    trainfeaturex.append(features)\n",
    "    trainlabely.append(label)\n",
    "#conver numpy array in CNN network, -1 means how many featurs do we have and 1 means grey image\n",
    "trainfeaturex = np.array(trainfeaturex).reshape(-1, IMG_SIZE, IMG_SIZE, 1)"
   ]
  },
  {
   "cell_type": "code",
   "execution_count": 125,
   "metadata": {},
   "outputs": [],
   "source": [
    "for features, label in testing_data:\n",
    "    testfeaturex.append(features)\n",
    "    testlabely.append(label)\n",
    "#conver numpy array in CNN network, -1 means how many featurs do we have and 1 means grey image\n",
    "testfeaturex = np.array(testfeaturex).reshape(-1, IMG_SIZE, IMG_SIZE, 1)"
   ]
  },
  {
   "cell_type": "code",
   "execution_count": 126,
   "metadata": {},
   "outputs": [],
   "source": [
    "import pickle\n",
    "\n",
    "pickle_out = open(\"trainfeaturex.pickle\", \"wb\")\n",
    "pickle.dump(trainfeaturex, pickle_out)\n",
    "pickle_out.close()\n",
    "\n",
    "pickle_out = open(\"trainlabely.pickle\", \"wb\")\n",
    "pickle.dump(trainlabely, pickle_out)\n",
    "pickle_out.close()\n",
    "\n",
    "pickle_in = open(\"trainfeaturex.pickle\", \"rb\")\n",
    "trainfeaturex = pickle.load(pickle_in)\n",
    "pickle_in.close()"
   ]
  },
  {
   "cell_type": "code",
   "execution_count": 127,
   "metadata": {},
   "outputs": [],
   "source": [
    "#pickle for testr \n",
    "pickle_out = open(\"testfeaturex.pickle\", \"wb\")\n",
    "pickle.dump(testfeaturex, pickle_out)\n",
    "pickle_out.close()\n",
    "\n",
    "pickle_out = open(\"testlabely.pickle\", \"wb\")\n",
    "pickle.dump(testlabely, pickle_out)\n",
    "pickle_out.close()\n",
    "\n",
    "#test \n",
    "pickle_in = open(\"testfeaturex.pickle\", \"rb\")\n",
    "testfeaturex = pickle.load(pickle_in)\n",
    "pickle_in.close()"
   ]
  },
  {
   "cell_type": "code",
   "execution_count": 128,
   "metadata": {},
   "outputs": [
    {
     "data": {
      "text/plain": [
       "array([[[167],\n",
       "        [177],\n",
       "        [188],\n",
       "        ...,\n",
       "        [ 55],\n",
       "        [ 38],\n",
       "        [ 46]],\n",
       "\n",
       "       [[164],\n",
       "        [177],\n",
       "        [184],\n",
       "        ...,\n",
       "        [ 61],\n",
       "        [ 43],\n",
       "        [ 46]],\n",
       "\n",
       "       [[155],\n",
       "        [171],\n",
       "        [178],\n",
       "        ...,\n",
       "        [ 66],\n",
       "        [ 48],\n",
       "        [ 39]],\n",
       "\n",
       "       ...,\n",
       "\n",
       "       [[ 54],\n",
       "        [ 28],\n",
       "        [ 20],\n",
       "        ...,\n",
       "        [ 73],\n",
       "        [ 57],\n",
       "        [ 50]],\n",
       "\n",
       "       [[ 88],\n",
       "        [ 46],\n",
       "        [ 36],\n",
       "        ...,\n",
       "        [ 62],\n",
       "        [ 44],\n",
       "        [ 26]],\n",
       "\n",
       "       [[ 80],\n",
       "        [ 44],\n",
       "        [ 40],\n",
       "        ...,\n",
       "        [ 44],\n",
       "        [ 26],\n",
       "        [ 26]]], dtype=uint8)"
      ]
     },
     "execution_count": 128,
     "metadata": {},
     "output_type": "execute_result"
    }
   ],
   "source": [
    "trainfeaturex[1]"
   ]
  },
  {
   "cell_type": "code",
   "execution_count": 129,
   "metadata": {},
   "outputs": [
    {
     "data": {
      "text/plain": [
       "(50000, 32, 32, 1)"
      ]
     },
     "execution_count": 129,
     "metadata": {},
     "output_type": "execute_result"
    }
   ],
   "source": [
    "trainfeaturex = trainfeaturex/255\n",
    "trainfeaturex.shape"
   ]
  },
  {
   "cell_type": "code",
   "execution_count": 134,
   "metadata": {},
   "outputs": [
    {
     "data": {
      "text/plain": [
       "(10000, 32, 32, 1)"
      ]
     },
     "execution_count": 134,
     "metadata": {},
     "output_type": "execute_result"
    }
   ],
   "source": [
    "testfeaturex1 = testfeaturex/255\n",
    "testfeaturex.shape\n"
   ]
  },
  {
   "cell_type": "markdown",
   "metadata": {},
   "source": [
    "Now we can do CNN model training"
   ]
  },
  {
   "cell_type": "markdown",
   "metadata": {},
   "source": [
    "### CNN Network"
   ]
  },
  {
   "cell_type": "code",
   "execution_count": 143,
   "metadata": {},
   "outputs": [],
   "source": [
    "from keras.models import Sequential\n",
    "from keras.layers import Input, Conv2D, BatchNormalization, Activation, MaxPool2D, Dropout, Flatten, Dense\n",
    "\n",
    "model = Sequential()\n",
    "model.add(Conv2D(64, (3, 3), padding='same', input_shape = trainfeaturex.shape[1:]))\n",
    "# batchnormalization\n",
    "# model.add(BatchNormalization(axis=bn_axis, name='bn_conv1'))\n",
    "\n",
    "model.add(Activation('relu'))\n",
    "model.add(MaxPool2D(pool_size=(2, 2), padding='same'))\n",
    "\n",
    "\n",
    "model.add(Activation('relu'))\n",
    "model.add(MaxPool2D(pool_size=(2, 2), padding='same'))\n",
    "model.add(Dropout(0.25))\n",
    "\n",
    "model.add(Flatten())\n",
    "model.add(Dense(128, activation='relu'))\n",
    "model.add(Dense(len(CATEGORIES), activation='softmax'))\n",
    "\n"
   ]
  },
  {
   "cell_type": "code",
   "execution_count": 144,
   "metadata": {},
   "outputs": [],
   "source": [
    "model.compile(optimizer='adam', \n",
    "              loss='sparse_categorical_crossentropy',\n",
    "              metrics=['accuracy'])\n"
   ]
  },
  {
   "cell_type": "code",
   "execution_count": 145,
   "metadata": {},
   "outputs": [
    {
     "name": "stdout",
     "output_type": "stream",
     "text": [
      "WARNING:tensorflow:From /home/dp1/.conda/envs/tensorflow/lib/python3.7/site-packages/tensorflow/python/ops/math_ops.py:3066: to_int32 (from tensorflow.python.ops.math_ops) is deprecated and will be removed in a future version.\n",
      "Instructions for updating:\n",
      "Use tf.cast instead.\n"
     ]
    }
   ],
   "source": [
    "history = model.fit(trainfeaturex, trainlabely, epochs=10, validation_split=0.33, batch_size=10, verbose=0)"
   ]
  },
  {
   "cell_type": "code",
   "execution_count": 146,
   "metadata": {
    "scrolled": false
   },
   "outputs": [
    {
     "name": "stdout",
     "output_type": "stream",
     "text": [
      "dict_keys(['val_loss', 'val_acc', 'loss', 'acc'])\n"
     ]
    },
    {
     "data": {
      "image/png": "[encoded data removed]",
      "text/plain": [
       "<Figure size 720x576 with 1 Axes>"
      ]
     },
     "metadata": {},
     "output_type": "display_data"
    },
    {
     "data": {
      "image/png": "[encoded data removed]",
      "text/plain": [
       "<Figure size 720x576 with 1 Axes>"
      ]
     },
     "metadata": {},
     "output_type": "display_data"
    }
   ],
   "source": [
    "# Visualize training history\n",
    "from keras.models import Sequential\n",
    "from keras.layers import Dense\n",
    "# list all data in history\n",
    "print(history.history.keys())\n",
    "# summarize history for accuracy\n",
    "plt.plot(history.history['acc'])\n",
    "plt.plot(history.history['val_acc'])\n",
    "plt.title('model accuracy')\n",
    "plt.ylabel('accuracy')\n",
    "plt.xlabel('epoch')\n",
    "plt.legend(['train', 'test'], loc='upper left')\n",
    "plt.show()\n",
    "# summarize history for loss\n",
    "plt.plot(history.history['loss'])\n",
    "plt.plot(history.history['val_loss'])\n",
    "plt.title('model loss')\n",
    "plt.ylabel('loss')\n",
    "plt.xlabel('epoch')\n",
    "plt.legend(['train', 'test'], loc='upper left')\n",
    "plt.show()"
   ]
  },
  {
   "cell_type": "code",
   "execution_count": 147,
   "metadata": {
    "scrolled": true
   },
   "outputs": [
    {
     "name": "stdout",
     "output_type": "stream",
     "text": [
      "_________________________________________________________________\n",
      "Layer (type)                 Output Shape              Param #   \n",
      "=================================================================\n",
      "conv2d_2 (Conv2D)            (None, 32, 32, 64)        640       \n",
      "_________________________________________________________________\n",
      "activation_3 (Activation)    (None, 32, 32, 64)        0         \n",
      "_________________________________________________________________\n",
      "max_pooling2d_3 (MaxPooling2 (None, 16, 16, 64)        0         \n",
      "_________________________________________________________________\n",
      "activation_4 (Activation)    (None, 16, 16, 64)        0         \n",
      "_________________________________________________________________\n",
      "max_pooling2d_4 (MaxPooling2 (None, 8, 8, 64)          0         \n",
      "_________________________________________________________________\n",
      "dropout_2 (Dropout)          (None, 8, 8, 64)          0         \n",
      "_________________________________________________________________\n",
      "flatten_2 (Flatten)          (None, 4096)              0         \n",
      "_________________________________________________________________\n",
      "dense_3 (Dense)              (None, 128)               524416    \n",
      "_________________________________________________________________\n",
      "dense_4 (Dense)              (None, 10)                1290      \n",
      "=================================================================\n",
      "Total params: 526,346\n",
      "Trainable params: 526,346\n",
      "Non-trainable params: 0\n",
      "_________________________________________________________________\n"
     ]
    }
   ],
   "source": [
    "model.summary()"
   ]
  },
  {
   "cell_type": "code",
   "execution_count": 148,
   "metadata": {},
   "outputs": [
    {
     "name": "stdout",
     "output_type": "stream",
     "text": [
      "10000/10000 [==============================] - 1s 62us/step\n",
      "Test accuracy: 0.5983\n"
     ]
    }
   ],
   "source": [
    "test_loss, test_acc = model.evaluate(testfeaturex1, testlabely)\n",
    "\n",
    "print('Test accuracy:', test_acc)"
   ]
  },
  {
   "cell_type": "code",
   "execution_count": 149,
   "metadata": {},
   "outputs": [],
   "source": [
    "predictions = model.predict(testfeaturex1)"
   ]
  },
  {
   "cell_type": "code",
   "execution_count": 150,
   "metadata": {},
   "outputs": [
    {
     "data": {
      "text/plain": [
       "array([8.5187061e-03, 1.6743442e-02, 2.8662307e-03, 3.5766255e-02,\n",
       "       8.2730554e-04, 1.4131734e-02, 2.1470638e-03, 2.0138489e-03,\n",
       "       9.1583467e-01, 1.1506771e-03], dtype=float32)"
      ]
     },
     "execution_count": 150,
     "metadata": {},
     "output_type": "execute_result"
    }
   ],
   "source": [
    "predictions[100]"
   ]
  },
  {
   "cell_type": "code",
   "execution_count": 53,
   "metadata": {},
   "outputs": [],
   "source": []
  }
 ],
 "metadata": {
  "kernelspec": {
   "display_name": "Python 3",
   "language": "python",
   "name": "python3"
  },
  "language_info": {
   "codemirror_mode": {
    "name": "ipython",
    "version": 3
   },
   "file_extension": ".py",
   "mimetype": "text/x-python",
   "name": "python",
   "nbconvert_exporter": "python",
   "pygments_lexer": "ipython3",
   "version": "3.7.2"
  }
 },
 "nbformat": 4,
 "nbformat_minor": 2
}
