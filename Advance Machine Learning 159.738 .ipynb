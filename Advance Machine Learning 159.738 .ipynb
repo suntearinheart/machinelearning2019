{
 "cells": [
  {
   "cell_type": "code",
   "execution_count": 3,
   "metadata": {},
   "outputs": [
    {
     "data": {
      "text/html": [
       "<style>.container { width:80% !important; }</style>"
      ],
      "text/plain": [
       "<IPython.core.display.HTML object>"
      ]
     },
     "metadata": {},
     "output_type": "display_data"
    }
   ],
   "source": [
    "from IPython.core.display import display, HTML\n",
    "display(HTML(\"<style>.container { width:80% !important; }</style>\"))"
   ]
  },
  {
   "cell_type": "markdown",
   "metadata": {},
   "source": [
    "# Advance Machine Learning 159.738  Assignment 1\n",
    "\n",
    "---"
   ]
  },
  {
   "cell_type": "markdown",
   "metadata": {},
   "source": [
    "### Team members:\n",
    "Ziyi Wang ID 18042783"
   ]
  },
  {
   "cell_type": "markdown",
   "metadata": {},
   "source": [
    "## Content\n",
    "* Data cleaning inspection\n",
    "* EDA\n",
    "* \n",
    "\n",
    "---\n"
   ]
  },
  {
   "cell_type": "markdown",
   "metadata": {},
   "source": [
    "#### Information about datasets\n",
    "#### googleplaystore.csv\n",
    "* App: Application name\n",
    "* Category: Category the app belongs to\n",
    "* Rating: Overall user rating of the app (as when scraped)\n",
    "* Reviews: Number of user reviews for the app (as when scraped)\n",
    "* Size: Size of the app (as when scraped)\n",
    "* Installs: Number of user downloads/installs for the app (as when scraped)\n",
    "* Type: Paid or Free\n",
    "* Price: Price of the app (as when scraped)\n",
    "* Content Rating: Age group the app is targeted at - Children / Mature 21+ / Adult\n",
    "* Genres: An app can belong to multiple genres (apart from its main category). For eg, a musical family game will belong to Music, Game, Family genres.\n",
    "* Last Updated: Date when the app was last updated on Play Store (as when scraped)\n",
    "* Current Ver: Current version of the app available on Play Store (as when scraped)\n",
    "* Android Ver: Min required Android version (as when scraped)\n",
    "\n",
    "#### googleplaystore_user_reviews.csv\n",
    "* App: Name of app\n",
    "* Translated_Review: User review (Preprocessed and translated to English)\n",
    "* Sentiment: Positive/Negative/Neutral (Preprocessed)\n",
    "* Sentiment_Polarity: Sentiment polarity score\n",
    "* Sentiment_Subjectivity: Sentiment subjectivity score"
   ]
  },
  {
   "cell_type": "code",
   "execution_count": 6,
   "metadata": {},
   "outputs": [],
   "source": [
    "import pandas as pd\n",
    "import matplotlib.pyplot as plt\n",
    "import matplotlib as mpl\n",
    "import seaborn as sns\n",
    "import numpy as np\n",
    "import patsy\n",
    "\n",
    "\n",
    "%matplotlib inline"
   ]
  },
  {
   "cell_type": "code",
   "execution_count": 7,
   "metadata": {},
   "outputs": [
    {
     "name": "stderr",
     "output_type": "stream",
     "text": [
      "E:\\Anaconda\\lib\\site-packages\\h5py\\__init__.py:36: FutureWarning: Conversion of the second argument of issubdtype from `float` to `np.floating` is deprecated. In future, it will be treated as `np.float64 == np.dtype(float).type`.\n",
      "  from ._conv import register_converters as _register_converters\n"
     ]
    },
    {
     "name": "stdout",
     "output_type": "stream",
     "text": [
      "1.11.0\n"
     ]
    }
   ],
   "source": [
    "# TensorFlow and tf.keras\n",
    "import tensorflow as tf\n",
    "from tensorflow import keras\n",
    "\n",
    "# Helper libraries\n",
    "import numpy as np\n",
    "import matplotlib.pyplot as plt\n",
    "\n",
    "print(tf.__version__)"
   ]
  },
  {
   "cell_type": "code",
   "execution_count": 9,
   "metadata": {},
   "outputs": [],
   "source": [
    "from pylab import rcParams\n",
    "\n",
    "sns.set(style=\"ticks\")\n",
    "#sns.set_style(\"whitegrid\")\n",
    "rcParams['figure.dpi'] = 350\n",
    "rcParams['lines.linewidth'] = 2\n",
    "rcParams['axes.facecolor'] = 'white'\n",
    "rcParams['patch.edgecolor'] = 'white'\n",
    "rcParams['font.family'] = 'StixGeneral'\n",
    "rcParams['figure.figsize'] = 10,8\n",
    "rcParams['font.size'] = 20\n",
    "rcParams['axes.labelsize'] = 'large'\n",
    "rcParams['xtick.labelsize'] = 20\n",
    "rcParams['ytick.labelsize'] = 20\n",
    "\n",
    "pd.options.display.max_columns = 50"
   ]
  },
  {
   "cell_type": "code",
   "execution_count": 23,
   "metadata": {},
   "outputs": [
    {
     "data": {
      "text/html": [
       "<div>\n",
       "<style scoped>\n",
       "    .dataframe tbody tr th:only-of-type {\n",
       "        vertical-align: middle;\n",
       "    }\n",
       "\n",
       "    .dataframe tbody tr th {\n",
       "        vertical-align: top;\n",
       "    }\n",
       "\n",
       "    .dataframe thead th {\n",
       "        text-align: right;\n",
       "    }\n",
       "</style>\n",
       "<table border=\"1\" class=\"dataframe\">\n",
       "  <thead>\n",
       "    <tr style=\"text-align: right;\">\n",
       "      <th></th>\n",
       "      <th>App</th>\n",
       "      <th>Category</th>\n",
       "      <th>Rating</th>\n",
       "      <th>Reviews</th>\n",
       "      <th>Size</th>\n",
       "      <th>Installs</th>\n",
       "      <th>Type</th>\n",
       "      <th>Price</th>\n",
       "      <th>Content Rating</th>\n",
       "      <th>Genres</th>\n",
       "      <th>Last Updated</th>\n",
       "      <th>Current Ver</th>\n",
       "      <th>Android Ver</th>\n",
       "    </tr>\n",
       "  </thead>\n",
       "  <tbody>\n",
       "    <tr>\n",
       "      <th>0</th>\n",
       "      <td>Photo Editor &amp; Candy Camera &amp; Grid &amp; ScrapBook</td>\n",
       "      <td>ART_AND_DESIGN</td>\n",
       "      <td>4.1</td>\n",
       "      <td>159</td>\n",
       "      <td>19M</td>\n",
       "      <td>10,000+</td>\n",
       "      <td>Free</td>\n",
       "      <td>0</td>\n",
       "      <td>Everyone</td>\n",
       "      <td>Art &amp; Design</td>\n",
       "      <td>January 7, 2018</td>\n",
       "      <td>1.0.0</td>\n",
       "      <td>4.0.3 and up</td>\n",
       "    </tr>\n",
       "    <tr>\n",
       "      <th>1</th>\n",
       "      <td>Coloring book moana</td>\n",
       "      <td>ART_AND_DESIGN</td>\n",
       "      <td>3.9</td>\n",
       "      <td>967</td>\n",
       "      <td>14M</td>\n",
       "      <td>500,000+</td>\n",
       "      <td>Free</td>\n",
       "      <td>0</td>\n",
       "      <td>Everyone</td>\n",
       "      <td>Art &amp; Design;Pretend Play</td>\n",
       "      <td>January 15, 2018</td>\n",
       "      <td>2.0.0</td>\n",
       "      <td>4.0.3 and up</td>\n",
       "    </tr>\n",
       "    <tr>\n",
       "      <th>2</th>\n",
       "      <td>U Launcher Lite – FREE Live Cool Themes, Hide ...</td>\n",
       "      <td>ART_AND_DESIGN</td>\n",
       "      <td>4.7</td>\n",
       "      <td>87510</td>\n",
       "      <td>8.7M</td>\n",
       "      <td>5,000,000+</td>\n",
       "      <td>Free</td>\n",
       "      <td>0</td>\n",
       "      <td>Everyone</td>\n",
       "      <td>Art &amp; Design</td>\n",
       "      <td>August 1, 2018</td>\n",
       "      <td>1.2.4</td>\n",
       "      <td>4.0.3 and up</td>\n",
       "    </tr>\n",
       "    <tr>\n",
       "      <th>3</th>\n",
       "      <td>Sketch - Draw &amp; Paint</td>\n",
       "      <td>ART_AND_DESIGN</td>\n",
       "      <td>4.5</td>\n",
       "      <td>215644</td>\n",
       "      <td>25M</td>\n",
       "      <td>50,000,000+</td>\n",
       "      <td>Free</td>\n",
       "      <td>0</td>\n",
       "      <td>Teen</td>\n",
       "      <td>Art &amp; Design</td>\n",
       "      <td>June 8, 2018</td>\n",
       "      <td>Varies with device</td>\n",
       "      <td>4.2 and up</td>\n",
       "    </tr>\n",
       "    <tr>\n",
       "      <th>4</th>\n",
       "      <td>Pixel Draw - Number Art Coloring Book</td>\n",
       "      <td>ART_AND_DESIGN</td>\n",
       "      <td>4.3</td>\n",
       "      <td>967</td>\n",
       "      <td>2.8M</td>\n",
       "      <td>100,000+</td>\n",
       "      <td>Free</td>\n",
       "      <td>0</td>\n",
       "      <td>Everyone</td>\n",
       "      <td>Art &amp; Design;Creativity</td>\n",
       "      <td>June 20, 2018</td>\n",
       "      <td>1.1</td>\n",
       "      <td>4.4 and up</td>\n",
       "    </tr>\n",
       "  </tbody>\n",
       "</table>\n",
       "</div>"
      ],
      "text/plain": [
       "                                                 App        Category  Rating  \\\n",
       "0     Photo Editor & Candy Camera & Grid & ScrapBook  ART_AND_DESIGN     4.1   \n",
       "1                                Coloring book moana  ART_AND_DESIGN     3.9   \n",
       "2  U Launcher Lite – FREE Live Cool Themes, Hide ...  ART_AND_DESIGN     4.7   \n",
       "3                              Sketch - Draw & Paint  ART_AND_DESIGN     4.5   \n",
       "4              Pixel Draw - Number Art Coloring Book  ART_AND_DESIGN     4.3   \n",
       "\n",
       "  Reviews  Size     Installs  Type Price Content Rating  \\\n",
       "0     159   19M      10,000+  Free     0       Everyone   \n",
       "1     967   14M     500,000+  Free     0       Everyone   \n",
       "2   87510  8.7M   5,000,000+  Free     0       Everyone   \n",
       "3  215644   25M  50,000,000+  Free     0           Teen   \n",
       "4     967  2.8M     100,000+  Free     0       Everyone   \n",
       "\n",
       "                      Genres      Last Updated         Current Ver  \\\n",
       "0               Art & Design   January 7, 2018               1.0.0   \n",
       "1  Art & Design;Pretend Play  January 15, 2018               2.0.0   \n",
       "2               Art & Design    August 1, 2018               1.2.4   \n",
       "3               Art & Design      June 8, 2018  Varies with device   \n",
       "4    Art & Design;Creativity     June 20, 2018                 1.1   \n",
       "\n",
       "    Android Ver  \n",
       "0  4.0.3 and up  \n",
       "1  4.0.3 and up  \n",
       "2  4.0.3 and up  \n",
       "3    4.2 and up  \n",
       "4    4.4 and up  "
      ]
     },
     "execution_count": 23,
     "metadata": {},
     "output_type": "execute_result"
    }
   ],
   "source": [
    "pd.options.display.max_columns = 150\n",
    "\n",
    "#Read datasets\n",
    "googleApp = pd.read_csv(\"googleplaystore.csv\");\n",
    "ga = pd.DataFrame(googleApp)\n",
    "googleAppView = pd.read_csv(\"googleplaystore_user_reviews.csv\")googleplaystore_user_reviews.csv\n",
    "gav = pd.DataFrame(googleAppView)\n",
    "googleApp.head()"
   ]
  },
  {
   "cell_type": "code",
   "execution_count": 18,
   "metadata": {},
   "outputs": [
    {
     "name": "stdout",
     "output_type": "stream",
     "text": [
      "<class 'pandas.core.frame.DataFrame'>\n",
      "RangeIndex: 10841 entries, 0 to 10840\n",
      "Data columns (total 13 columns):\n",
      "App               10841 non-null object\n",
      "Category          10841 non-null object\n",
      "Rating            9367 non-null float64\n",
      "Reviews           10841 non-null object\n",
      "Size              10841 non-null object\n",
      "Installs          10841 non-null object\n",
      "Type              10840 non-null object\n",
      "Price             10841 non-null object\n",
      "Content Rating    10840 non-null object\n",
      "Genres            10841 non-null object\n",
      "Last Updated      10841 non-null object\n",
      "Current Ver       10833 non-null object\n",
      "Android Ver       10838 non-null object\n",
      "dtypes: float64(1), object(12)\n",
      "memory usage: 1.1+ MB\n"
     ]
    }
   ],
   "source": [
    "googleApp.info()"
   ]
  },
  {
   "cell_type": "code",
   "execution_count": 16,
   "metadata": {},
   "outputs": [
    {
     "data": {
      "text/html": [
       "<div>\n",
       "<style scoped>\n",
       "    .dataframe tbody tr th:only-of-type {\n",
       "        vertical-align: middle;\n",
       "    }\n",
       "\n",
       "    .dataframe tbody tr th {\n",
       "        vertical-align: top;\n",
       "    }\n",
       "\n",
       "    .dataframe thead th {\n",
       "        text-align: right;\n",
       "    }\n",
       "</style>\n",
       "<table border=\"1\" class=\"dataframe\">\n",
       "  <thead>\n",
       "    <tr style=\"text-align: right;\">\n",
       "      <th></th>\n",
       "      <th>App</th>\n",
       "      <th>Translated_Review</th>\n",
       "      <th>Sentiment</th>\n",
       "      <th>Sentiment_Polarity</th>\n",
       "      <th>Sentiment_Subjectivity</th>\n",
       "    </tr>\n",
       "  </thead>\n",
       "  <tbody>\n",
       "    <tr>\n",
       "      <th>0</th>\n",
       "      <td>10 Best Foods for You</td>\n",
       "      <td>I like eat delicious food. That's I'm cooking ...</td>\n",
       "      <td>Positive</td>\n",
       "      <td>1.00</td>\n",
       "      <td>0.533333</td>\n",
       "    </tr>\n",
       "    <tr>\n",
       "      <th>1</th>\n",
       "      <td>10 Best Foods for You</td>\n",
       "      <td>This help eating healthy exercise regular basis</td>\n",
       "      <td>Positive</td>\n",
       "      <td>0.25</td>\n",
       "      <td>0.288462</td>\n",
       "    </tr>\n",
       "    <tr>\n",
       "      <th>2</th>\n",
       "      <td>10 Best Foods for You</td>\n",
       "      <td>NaN</td>\n",
       "      <td>NaN</td>\n",
       "      <td>NaN</td>\n",
       "      <td>NaN</td>\n",
       "    </tr>\n",
       "    <tr>\n",
       "      <th>3</th>\n",
       "      <td>10 Best Foods for You</td>\n",
       "      <td>Works great especially going grocery store</td>\n",
       "      <td>Positive</td>\n",
       "      <td>0.40</td>\n",
       "      <td>0.875000</td>\n",
       "    </tr>\n",
       "    <tr>\n",
       "      <th>4</th>\n",
       "      <td>10 Best Foods for You</td>\n",
       "      <td>Best idea us</td>\n",
       "      <td>Positive</td>\n",
       "      <td>1.00</td>\n",
       "      <td>0.300000</td>\n",
       "    </tr>\n",
       "  </tbody>\n",
       "</table>\n",
       "</div>"
      ],
      "text/plain": [
       "                     App                                  Translated_Review  \\\n",
       "0  10 Best Foods for You  I like eat delicious food. That's I'm cooking ...   \n",
       "1  10 Best Foods for You    This help eating healthy exercise regular basis   \n",
       "2  10 Best Foods for You                                                NaN   \n",
       "3  10 Best Foods for You         Works great especially going grocery store   \n",
       "4  10 Best Foods for You                                       Best idea us   \n",
       "\n",
       "  Sentiment  Sentiment_Polarity  Sentiment_Subjectivity  \n",
       "0  Positive                1.00                0.533333  \n",
       "1  Positive                0.25                0.288462  \n",
       "2       NaN                 NaN                     NaN  \n",
       "3  Positive                0.40                0.875000  \n",
       "4  Positive                1.00                0.300000  "
      ]
     },
     "execution_count": 16,
     "metadata": {},
     "output_type": "execute_result"
    }
   ],
   "source": [
    "googleAppView.head()"
   ]
  },
  {
   "cell_type": "code",
   "execution_count": 19,
   "metadata": {},
   "outputs": [
    {
     "name": "stdout",
     "output_type": "stream",
     "text": [
      "<class 'pandas.core.frame.DataFrame'>\n",
      "RangeIndex: 64295 entries, 0 to 64294\n",
      "Data columns (total 5 columns):\n",
      "App                       64295 non-null object\n",
      "Translated_Review         37427 non-null object\n",
      "Sentiment                 37432 non-null object\n",
      "Sentiment_Polarity        37432 non-null float64\n",
      "Sentiment_Subjectivity    37432 non-null float64\n",
      "dtypes: float64(2), object(3)\n",
      "memory usage: 2.5+ MB\n"
     ]
    }
   ],
   "source": [
    "googleAppView.info()"
   ]
  },
  {
   "cell_type": "code",
   "execution_count": 21,
   "metadata": {},
   "outputs": [
    {
     "data": {
      "text/plain": [
       "(10841, 13)"
      ]
     },
     "execution_count": 21,
     "metadata": {},
     "output_type": "execute_result"
    }
   ],
   "source": [
    "googleApp.shape"
   ]
  },
  {
   "cell_type": "code",
   "execution_count": 22,
   "metadata": {},
   "outputs": [
    {
     "data": {
      "text/plain": [
       "(64295, 5)"
      ]
     },
     "execution_count": 22,
     "metadata": {},
     "output_type": "execute_result"
    }
   ],
   "source": [
    "googleAppView.shape"
   ]
  },
  {
   "cell_type": "markdown",
   "metadata": {},
   "source": [
    "### 1.1 Data clean \n",
    "There are five cols data have NAN data each one is Rating, Type, Content Rating, Current Ver, Android Ver,Ratingdata is overall user rating of the app we useing mean value to replace the NAN data and Current Ver is current version of the app available on Play Store we replace it with zero. Type means paid or free we replace it to free and Content Rating is age group the app is targeted at - Children / Mature 21+ / Adult looking at detail information this data find it was a numerical fill error so we remove the data to correct place and this line's missing value would be Category and looking at name of App we replace value to Tools category and finally the Android Ver which is Min required Android version we replace it to latest vision of android. And for googleAppView dataframe we replace the NAN reviews to none."
   ]
  },
  {
   "cell_type": "code",
   "execution_count": 36,
   "metadata": {},
   "outputs": [
    {
     "data": {
      "text/html": [
       "<div>\n",
       "<style scoped>\n",
       "    .dataframe tbody tr th:only-of-type {\n",
       "        vertical-align: middle;\n",
       "    }\n",
       "\n",
       "    .dataframe tbody tr th {\n",
       "        vertical-align: top;\n",
       "    }\n",
       "\n",
       "    .dataframe thead th {\n",
       "        text-align: right;\n",
       "    }\n",
       "</style>\n",
       "<table border=\"1\" class=\"dataframe\">\n",
       "  <thead>\n",
       "    <tr style=\"text-align: right;\">\n",
       "      <th></th>\n",
       "      <th>total</th>\n",
       "    </tr>\n",
       "  </thead>\n",
       "  <tbody>\n",
       "    <tr>\n",
       "      <th>App</th>\n",
       "      <td>0</td>\n",
       "    </tr>\n",
       "    <tr>\n",
       "      <th>Category</th>\n",
       "      <td>0</td>\n",
       "    </tr>\n",
       "    <tr>\n",
       "      <th>Rating</th>\n",
       "      <td>1474</td>\n",
       "    </tr>\n",
       "    <tr>\n",
       "      <th>Reviews</th>\n",
       "      <td>0</td>\n",
       "    </tr>\n",
       "    <tr>\n",
       "      <th>Size</th>\n",
       "      <td>0</td>\n",
       "    </tr>\n",
       "    <tr>\n",
       "      <th>Installs</th>\n",
       "      <td>0</td>\n",
       "    </tr>\n",
       "    <tr>\n",
       "      <th>Type</th>\n",
       "      <td>1</td>\n",
       "    </tr>\n",
       "    <tr>\n",
       "      <th>Price</th>\n",
       "      <td>0</td>\n",
       "    </tr>\n",
       "    <tr>\n",
       "      <th>Content Rating</th>\n",
       "      <td>1</td>\n",
       "    </tr>\n",
       "    <tr>\n",
       "      <th>Genres</th>\n",
       "      <td>0</td>\n",
       "    </tr>\n",
       "    <tr>\n",
       "      <th>Last Updated</th>\n",
       "      <td>0</td>\n",
       "    </tr>\n",
       "    <tr>\n",
       "      <th>Current Ver</th>\n",
       "      <td>8</td>\n",
       "    </tr>\n",
       "    <tr>\n",
       "      <th>Android Ver</th>\n",
       "      <td>3</td>\n",
       "    </tr>\n",
       "  </tbody>\n",
       "</table>\n",
       "</div>"
      ],
      "text/plain": [
       "                total\n",
       "App                 0\n",
       "Category            0\n",
       "Rating           1474\n",
       "Reviews             0\n",
       "Size                0\n",
       "Installs            0\n",
       "Type                1\n",
       "Price               0\n",
       "Content Rating      1\n",
       "Genres              0\n",
       "Last Updated        0\n",
       "Current Ver         8\n",
       "Android Ver         3"
      ]
     },
     "execution_count": 36,
     "metadata": {},
     "output_type": "execute_result"
    }
   ],
   "source": [
    "# Number of missing in each column\n",
    "missing = pd.DataFrame(ga.isnull().sum()).rename(columns = {0: 'total'})\n",
    "missing"
   ]
  },
  {
   "cell_type": "code",
   "execution_count": 46,
   "metadata": {},
   "outputs": [
    {
     "name": "stdout",
     "output_type": "stream",
     "text": [
      "Columns name：\"Rating\", the[23, 113, 123, 126, 129, 130, 134, 163, 180, 185, 227, 321, 478, 479, 480, 610, 613, 617, 620, 621, 623, 624, 626, 627, 628, 629, 630, 631, 632, 635, 637, 638, 639, 641, 642, 643, 644, 647, 648, 649, 650, 651, 652, 653, 658, 659, 660, 666, 669, 683, 698, 704, 1013, 1024, 1025, 1032, 1033, 1034, 1039, 1041, 1043, 1045, 1046, 1177, 1180, 1455, 1469, 1478, 1484, 1489, 1517, 1519, 1520, 1530, 1534, 1536, 1537, 1539, 1540, 1552, 1557, 1559, 2111, 2265, 2280, 2294, 2356, 2390, 2419, 2422, 2423, 2424, 2425, 2430, 2431, 2432, 2433, 2434, 2435, 2436, 2437, 2438, 2439, 2440, 2441, 2442, 2443, 2446, 2447, 2449, 2451, 2453, 2456, 2460, 2461, 2462, 2465, 2466, 2467, 2468, 2469, 2470, 2471, 2473, 2474, 2478, 2479, 2480, 2481, 2483, 2485, 2498, 2501, 2502, 2503, 2513, 2516, 2529, 2540, 3252, 3258, 3577, 3579, 3580, 3583, 3585, 3589, 3599, 3603, 3616, 3621, 3705, 3959, 3985, 4130, 4134, 4137, 4139, 4177, 4201, 4218, 4256, 4265, 4269, 4270, 4273, 4278, 4303, 4307, 4308, 4315, 4431, 4451, 4457, 4459, 4462, 4465, 4471, 4475, 4482, 4485, 4489, 4504, 4520, 4532, 4537, 4538, 4543, 4546, 4548, 4549, 4550, 4551, 4562, 4564, 4565, 4697, 4776, 4845, 4848, 4884, 4889, 4894, 5023, 5029, 5034, 5050, 5051, 5052, 5056, 5059, 5061, 5068, 5072, 5086, 5088, 5090, 5093, 5096, 5098, 5099, 5100, 5101, 5106, 5107, 5109, 5110, 5111, 5112, 5113, 5114, 5115, 5116, 5119, 5120, 5122, 5123, 5124, 5126, 5127, 5131, 5132, 5134, 5135, 5136, 5140, 5141, 5142, 5147, 5152, 5154, 5155, 5157, 5159, 5160, 5161, 5162, 5163, 5164, 5165, 5166, 5168, 5169, 5170, 5171, 5172, 5174, 5176, 5177, 5208, 5213, 5217, 5218, 5229, 5231, 5232, 5234, 5240, 5243, 5247, 5249, 5250, 5253, 5255, 5256, 5259, 5262, 5264, 5265, 5266, 5269, 5270, 5271, 5274, 5281, 5288, 5289, 5290, 5296, 5298, 5300, 5301, 5302, 5303, 5307, 5407, 5414, 5457, 5461, 5480, 5484, 5486, 5494, 5497, 5498, 5499, 5500, 5508, 5510, 5511, 5513, 5564, 5575, 5669, 5676, 5677, 5680, 5682, 5683, 5687, 5688, 5690, 5694, 5713, 5730, 5734, 5739, 5742, 5750, 5753, 5754, 5756, 5757, 5762, 5771, 5788, 5792, 5793, 5796, 5798, 5800, 5804, 5807, 5809, 5810, 5812, 5816, 5817, 5824, 5832, 5833, 5834, 5835, 5837, 5838, 5839, 5840, 5841, 5843, 5845, 5846, 5851, 5853, 5854, 5855, 5857, 5882, 5891, 5918, 5921, 5923, 5924, 5925, 5927, 5942, 5943, 5945, 5951, 5967, 5976, 5977, 5985, 5991, 5992, 5998, 6011, 6085, 6109, 6110, 6114, 6117, 6118, 6122, 6138, 6139, 6143, 6145, 6147, 6149, 6150, 6151, 6152, 6153, 6154, 6157, 6158, 6162, 6163, 6164, 6165, 6170, 6172, 6173, 6174, 6176, 6179, 6182, 6186, 6190, 6192, 6199, 6208, 6225, 6229, 6230, 6231, 6233, 6234, 6235, 6237, 6239, 6240, 6243, 6246, 6250, 6257, 6258, 6259, 6260, 6261, 6277, 6278, 6291, 6292, 6318, 6320, 6325, 6328, 6329, 6333, 6334, 6335, 6336, 6337, 6339, 6345, 6357, 6360, 6365, 6366, 6367, 6377, 6389, 6393, 6394, 6399, 6425, 6428, 6430, 6433, 6434, 6435, 6436, 6437, 6443, 6444, 6445, 6456, 6460, 6464, 6469, 6470, 6473, 6475, 6478, 6479, 6480, 6481, 6482, 6483, 6487, 6488, 6492, 6499, 6502, 6508, 6518, 6519, 6527, 6528, 6530, 6542, 6544, 6545, 6555, 6559, 6560, 6567, 6569, 6596, 6598, 6606, 6613, 6623, 6624, 6633, 6634, 6637, 6638, 6639, 6641, 6642, 6644, 6653, 6657, 6659, 6664, 6665, 6667, 6668, 6669, 6670, 6671, 6672, 6683, 6689, 6692, 6693, 6695, 6696, 6699, 6701, 6703, 6704, 6706, 6710, 6711, 6732, 6733, 6734, 6736, 6738, 6742, 6743, 6746, 6750, 6751, 6753, 6755, 6778, 6780, 6795, 6800, 6801, 6803, 6804, 6805, 6808, 6809, 6815, 6817, 6818, 6819, 6821, 6826, 6828, 6829, 6831, 6832, 6834, 6835, 6838, 6839, 6841, 6842, 6843, 6844, 6846, 6853, 6854, 6855, 6857, 6859, 6862, 6864, 6865, 6866, 6868, 6869, 6871, 6872, 6873, 6875, 6876, 6878, 6879, 6880, 6888, 6890, 6893, 6904, 6912, 6915, 6916, 6917, 6918, 6928, 6932, 6933, 6937, 6938, 6940, 6941, 6950, 6952, 6954, 6955, 6956, 6959, 6962, 6965, 6967, 7034, 7038, 7040, 7047, 7049, 7051, 7053, 7056, 7058, 7060, 7061, 7064, 7073, 7074, 7081, 7083, 7084, 7087, 7092, 7101, 7114, 7116, 7117, 7120, 7121, 7123, 7129, 7130, 7133, 7135, 7138, 7140, 7141, 7153, 7154, 7156, 7157, 7158, 7160, 7161, 7163, 7166, 7167, 7168, 7169, 7171, 7172, 7173, 7174, 7176, 7180, 7181, 7182, 7183, 7184, 7185, 7188, 7189, 7190, 7199, 7202, 7203, 7208, 7211, 7214, 7217, 7220, 7221, 7222, 7224, 7225, 7226, 7227, 7228, 7230, 7231, 7232, 7233, 7234, 7246, 7249, 7251, 7252, 7255, 7256, 7257, 7259, 7262, 7263, 7264, 7265, 7268, 7269, 7271, 7272, 7274, 7275, 7276, 7277, 7278, 7279, 7293, 7294, 7296, 7305, 7306, 7308, 7311, 7312, 7317, 7318, 7322, 7332, 7335, 7339, 7342, 7343, 7344, 7346, 7361, 7370, 7371, 7376, 7378, 7380, 7382, 7384, 7386, 7387, 7388, 7389, 7390, 7391, 7394, 7395, 7396, 7400, 7401, 7407, 7409, 7410, 7432, 7434, 7440, 7445, 7447, 7448, 7460, 7472, 7476, 7481, 7485, 7486, 7488, 7493, 7494, 7502, 7503, 7504, 7505, 7516, 7521, 7522, 7526, 7528, 7529, 7531, 7532, 7581, 7622, 7629, 7642, 7652, 7663, 7679, 7681, 7691, 7694, 7702, 7703, 7710, 7712, 7713, 7714, 7719, 7720, 7724, 7726, 7728, 7730, 7732, 7735, 7737, 7745, 7747, 7748, 7757, 7759, 7775, 7778, 7787, 7790, 7800, 7804, 7827, 7832, 7843, 7854, 7862, 7873, 7874, 7878, 7882, 7884, 7888, 7891, 7893, 7897, 7898, 7901, 7981, 7994, 8005, 8007, 8009, 8011, 8017, 8019, 8055, 8057, 8060, 8062, 8065, 8066, 8067, 8068, 8069, 8070, 8072, 8076, 8078, 8079, 8080, 8081, 8091, 8093, 8094, 8097, 8103, 8105, 8106, 8109, 8110, 8112, 8113, 8114, 8119, 8137, 8139, 8140, 8145, 8147, 8148, 8150, 8151, 8154, 8155, 8160, 8161, 8165, 8169, 8206, 8209, 8210, 8217, 8218, 8223, 8225, 8232, 8241, 8242, 8243, 8262, 8278, 8280, 8282, 8283, 8318, 8319, 8322, 8328, 8329, 8330, 8331, 8332, 8333, 8334, 8337, 8338, 8339, 8340, 8341, 8342, 8344, 8345, 8346, 8348, 8349, 8351, 8354, 8355, 8356, 8358, 8359, 8384, 8389, 8390, 8393, 8414, 8425, 8431, 8435, 8488, 8489, 8490, 8495, 8499, 8501, 8502, 8504, 8505, 8506, 8509, 8510, 8548, 8556, 8562, 8565, 8566, 8567, 8568, 8573, 8575, 8576, 8577, 8578, 8579, 8580, 8581, 8583, 8588, 8593, 8597, 8598, 8599, 8600, 8602, 8603, 8605, 8606, 8607, 8612, 8614, 8616, 8690, 8698, 8729, 8752, 8822, 8825, 8828, 8831, 8833, 8834, 8839, 8842, 8849, 8851, 8854, 8868, 8870, 8871, 8872, 8873, 8876, 8877, 8882, 8884, 8885, 8921, 8928, 8939, 8941, 8965, 8968, 8969, 8973, 8985, 8987, 8988, 8999, 9001, 9004, 9009, 9012, 9014, 9015, 9016, 9019, 9020, 9021, 9025, 9030, 9043, 9047, 9052, 9053, 9054, 9058, 9074, 9075, 9076, 9077, 9083, 9087, 9096, 9097, 9101, 9104, 9109, 9110, 9113, 9115, 9118, 9123, 9125, 9131, 9133, 9136, 9137, 9139, 9148, 9180, 9183, 9185, 9189, 9190, 9195, 9198, 9199, 9201, 9206, 9209, 9210, 9224, 9231, 9234, 9235, 9237, 9240, 9249, 9250, 9252, 9255, 9257, 9261, 9262, 9264, 9271, 9284, 9291, 9294, 9296, 9298, 9299, 9300, 9302, 9306, 9309, 9310, 9312, 9319, 9320, 9321, 9322, 9324, 9329, 9330, 9331, 9333, 9337, 9346, 9367, 9370, 9371, 9373, 9409, 9410, 9412, 9414, 9417, 9418, 9419, 9421, 9423, 9431, 9448, 9453, 9458, 9459, 9460, 9466, 9481, 9502, 9504, 9509, 9514, 9515, 9519, 9521, 9527, 9532, 9548, 9550, 9557, 9567, 9612, 9648, 9651, 9652, 9653, 9654, 9655, 9656, 9657, 9658, 9660, 9662, 9663, 9664, 9665, 9666, 9669, 9670, 9672, 9675, 9679, 9691, 9692, 9693, 9698, 9699, 9700, 9703, 9704, 9706, 9707, 9713, 9714, 9715, 9719, 9722, 9727, 9730, 9739, 9757, 9772, 9777, 9782, 9820, 9834, 9866, 9874, 9878, 9882, 9884, 9889, 9893, 9896, 9898, 9902, 9903, 9905, 9907, 9909, 9910, 9912, 9913, 9914, 9915, 9916, 9917, 9918, 9919, 9920, 9924, 9925, 9927, 9928, 9929, 9930, 9931, 9934, 9935, 9937, 9938, 9956, 9962, 9964, 9971, 9972, 9980, 9989, 9990, 9992, 9993, 9994, 9995, 9997, 9999, 10000, 10002, 10004, 10007, 10009, 10053, 10069, 10078, 10079, 10080, 10081, 10083, 10084, 10085, 10089, 10090, 10094, 10097, 10099, 10101, 10102, 10103, 10104, 10105, 10106, 10108, 10109, 10110, 10119, 10169, 10176, 10180, 10183, 10184, 10185, 10187, 10214, 10232, 10236, 10256, 10265, 10299, 10311, 10314, 10328, 10329, 10330, 10331, 10332, 10333, 10334, 10337, 10338, 10339, 10342, 10344, 10346, 10347, 10348, 10350, 10351, 10352, 10354, 10355, 10356, 10358, 10359, 10361, 10364, 10365, 10366, 10367, 10368, 10369, 10377, 10399, 10401, 10402, 10403, 10404, 10411, 10413, 10414, 10415, 10417, 10418, 10421, 10422, 10425, 10427, 10432, 10433, 10439, 10483, 10485, 10488, 10494, 10495, 10496, 10497, 10499, 10501, 10510, 10517, 10519, 10524, 10525, 10528, 10530, 10532, 10533, 10534, 10535, 10536, 10537, 10538, 10539, 10541, 10542, 10543, 10544, 10545, 10546, 10547, 10548, 10550, 10551, 10553, 10555, 10557, 10558, 10559, 10560, 10561, 10563, 10565, 10567, 10605, 10606, 10608, 10612, 10618, 10622, 10625, 10626, 10627, 10631, 10650, 10651, 10653, 10654, 10657, 10658, 10660, 10661, 10662, 10664, 10668, 10669, 10670, 10672, 10674, 10676, 10692, 10693, 10694, 10695, 10696, 10698, 10699, 10700, 10701, 10702, 10704, 10705, 10708, 10709, 10734, 10735, 10736, 10744, 10745, 10746, 10748, 10751, 10759, 10761, 10762, 10764, 10769, 10772, 10773, 10774, 10775, 10788, 10794, 10798, 10806, 10807, 10808, 10811, 10813, 10816, 10818, 10821, 10822, 10823, 10824, 10825, 10831, 10835, 10838]columns have missing value\n",
      "Columns name：\"Type\", the[9148]columns have missing value\n",
      "Columns name：\"Content Rating\", the[10472]columns have missing value\n",
      "Columns name：\"Current Ver\", the[15, 1553, 6322, 6803, 7333, 7407, 7730, 10342]columns have missing value\n",
      "Columns name：\"Android Ver\", the[4453, 4490, 10472]columns have missing value\n"
     ]
    }
   ],
   "source": [
    "for columname in ga.columns:\n",
    "    if ga[columname].count() != len(ga):\n",
    "        loc = ga[columname][ga[columname].isnull().values==True].index.tolist()\n",
    "        print('Columns name：\"{}\", the{}columns have missing value'.format(columname,loc))"
   ]
  },
  {
   "cell_type": "code",
   "execution_count": 54,
   "metadata": {},
   "outputs": [
    {
     "data": {
      "text/plain": [
       "App               Life Made WI-Fi Touchscreen Photo Frame\n",
       "Category                                              1.9\n",
       "Rating                                                 19\n",
       "Reviews                                              3.0M\n",
       "Size                                               1,000+\n",
       "Installs                                             Free\n",
       "Type                                                    0\n",
       "Price                                            Everyone\n",
       "Content Rating                                        NaN\n",
       "Genres                                  February 11, 2018\n",
       "Last Updated                                       1.0.19\n",
       "Current Ver                                    4.0 and up\n",
       "Android Ver                                           NaN\n",
       "Name: 10472, dtype: object"
      ]
     },
     "execution_count": 54,
     "metadata": {},
     "output_type": "execute_result"
    }
   ],
   "source": [
    "#detail information about Content Rating \n",
    "ga.iloc[10472] "
   ]
  },
  {
   "cell_type": "code",
   "execution_count": 55,
   "metadata": {},
   "outputs": [],
   "source": [
    "#replace the missing value of Content Rating"
   ]
  },
  {
   "cell_type": "code",
   "execution_count": 32,
   "metadata": {},
   "outputs": [
    {
     "data": {
      "text/html": [
       "<div>\n",
       "<style scoped>\n",
       "    .dataframe tbody tr th:only-of-type {\n",
       "        vertical-align: middle;\n",
       "    }\n",
       "\n",
       "    .dataframe tbody tr th {\n",
       "        vertical-align: top;\n",
       "    }\n",
       "\n",
       "    .dataframe thead th {\n",
       "        text-align: right;\n",
       "    }\n",
       "</style>\n",
       "<table border=\"1\" class=\"dataframe\">\n",
       "  <thead>\n",
       "    <tr style=\"text-align: right;\">\n",
       "      <th></th>\n",
       "      <th>total rating</th>\n",
       "      <th>Rating</th>\n",
       "    </tr>\n",
       "  </thead>\n",
       "  <tbody>\n",
       "    <tr>\n",
       "      <th>Rating</th>\n",
       "      <td>1474</td>\n",
       "      <td>0.135965</td>\n",
       "    </tr>\n",
       "    <tr>\n",
       "      <th>Current Ver</th>\n",
       "      <td>8</td>\n",
       "      <td>0.000738</td>\n",
       "    </tr>\n",
       "    <tr>\n",
       "      <th>Android Ver</th>\n",
       "      <td>3</td>\n",
       "      <td>0.000277</td>\n",
       "    </tr>\n",
       "    <tr>\n",
       "      <th>Type</th>\n",
       "      <td>1</td>\n",
       "      <td>0.000092</td>\n",
       "    </tr>\n",
       "    <tr>\n",
       "      <th>Content Rating</th>\n",
       "      <td>1</td>\n",
       "      <td>0.000092</td>\n",
       "    </tr>\n",
       "    <tr>\n",
       "      <th>App</th>\n",
       "      <td>0</td>\n",
       "      <td>0.000000</td>\n",
       "    </tr>\n",
       "    <tr>\n",
       "      <th>Category</th>\n",
       "      <td>0</td>\n",
       "      <td>0.000000</td>\n",
       "    </tr>\n",
       "    <tr>\n",
       "      <th>Reviews</th>\n",
       "      <td>0</td>\n",
       "      <td>0.000000</td>\n",
       "    </tr>\n",
       "    <tr>\n",
       "      <th>Size</th>\n",
       "      <td>0</td>\n",
       "      <td>0.000000</td>\n",
       "    </tr>\n",
       "    <tr>\n",
       "      <th>Installs</th>\n",
       "      <td>0</td>\n",
       "      <td>0.000000</td>\n",
       "    </tr>\n",
       "  </tbody>\n",
       "</table>\n",
       "</div>"
      ],
      "text/plain": [
       "                total rating    Rating\n",
       "Rating                  1474  0.135965\n",
       "Current Ver                8  0.000738\n",
       "Android Ver                3  0.000277\n",
       "Type                       1  0.000092\n",
       "Content Rating             1  0.000092\n",
       "App                        0  0.000000\n",
       "Category                   0  0.000000\n",
       "Reviews                    0  0.000000\n",
       "Size                       0  0.000000\n",
       "Installs                   0  0.000000"
      ]
     },
     "execution_count": 32,
     "metadata": {},
     "output_type": "execute_result"
    }
   ],
   "source": [
    "# Create a percentage missing\n",
    "missing['Rating'] = missing['total rating'] / len(ga)\n",
    "missing.sort_values('Rating', ascending = False).head(10)"
   ]
  },
  {
   "cell_type": "code",
   "execution_count": null,
   "metadata": {},
   "outputs": [],
   "source": []
  }
 ],
 "metadata": {
  "kernelspec": {
   "display_name": "Python 3",
   "language": "python",
   "name": "python3"
  },
  "language_info": {
   "codemirror_mode": {
    "name": "ipython",
    "version": 3
   },
   "file_extension": ".py",
   "mimetype": "text/x-python",
   "name": "python",
   "nbconvert_exporter": "python",
   "pygments_lexer": "ipython3",
   "version": "3.6.5"
  }
 },
 "nbformat": 4,
 "nbformat_minor": 2
}
